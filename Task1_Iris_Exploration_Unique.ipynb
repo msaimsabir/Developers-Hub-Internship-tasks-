{
 "cells": [
  {
   "cell_type": "markdown",
   "id": "ea569255",
   "metadata": {},
   "source": [
    "# Iris Flower Dataset Analysis 🌸\n",
    "\n",
    "Welcome! This notebook dives into the Iris dataset to understand its features using Python libraries like `pandas`, `matplotlib`, and `seaborn`. We'll visualize patterns and uncover hidden insights."
   ]
  },
  {
   "cell_type": "markdown",
   "id": "7654712c",
   "metadata": {},
   "source": [
    "# Iris Dataset: Data Analysis & Visualization\n",
    "\n",
    "This notebook performs a visual and statistical analysis on the Iris flower dataset using Python libraries such as pandas, seaborn, and matplotlib.\n",
    "\n",
    "### Goals of this notebook:\n",
    "- Load and inspect the dataset\n",
    "- Create plots to understand feature patterns and relations\n",
    "- Detect anomalies and variations in the data"
   ]
  },
  {
   "cell_type": "code",
   "execution_count": null,
   "id": "724b6f43",
   "metadata": {},
   "outputs": [],
   "source": [
    "import pandas as pd\n",
    "import seaborn as sns\n",
    "import matplotlib.pyplot as plt\n",
    "\n",
    "# Enable inline plotting for Jupyter Notebook\n",
    "%matplotlib inline"
   ]
  },
  {
   "cell_type": "code",
   "execution_count": null,
   "id": "32f8dd1b",
   "metadata": {},
   "outputs": [],
   "source": [
    "# Load the Iris dataset from seaborn\n",
    "iris_data = sns.load_dataset('iris')\n",
    "iris_data.head()"
   ]
  },
  {
   "cell_type": "code",
   "execution_count": null,
   "id": "ca91353f",
   "metadata": {},
   "outputs": [],
   "source": [
    "# Display shape and column names\n",
    "print('Shape of dataset:', iris_data.shape)\n",
    "print('Column names:', iris_data.columns.tolist())"
   ]
  },
  {
   "cell_type": "code",
   "execution_count": null,
   "id": "6b426928",
   "metadata": {},
   "outputs": [],
   "source": [
    "# Basic information about dataset\n",
    "iris_data.info()"
   ]
  },
  {
   "cell_type": "code",
   "execution_count": null,
   "id": "a96a6e46",
   "metadata": {},
   "outputs": [],
   "source": [
    "# Statistical summary of the dataset\n",
    "iris_data.describe()"
   ]
  },
  {
   "cell_type": "code",
   "execution_count": null,
   "id": "2a06775f",
   "metadata": {},
   "outputs": [],
   "source": [
    "# Pairplot to show relationships between features colored by species\n",
    "sns.pairplot(iris_data, hue='species')\n",
    "plt.suptitle('Scatter Plot Matrix of Iris Dataset', y=1.02)\n",
    "plt.show()"
   ]
  },
  {
   "cell_type": "code",
   "execution_count": null,
   "id": "c1a59b13",
   "metadata": {},
   "outputs": [],
   "source": [
    "# Histograms for each feature\n",
    "iris_data.hist(figsize=(10, 6), bins=15)\n",
    "plt.suptitle('Feature Distributions', y=1.02)\n",
    "plt.tight_layout()\n",
    "plt.show()"
   ]
  },
  {
   "cell_type": "code",
   "execution_count": null,
   "id": "28f9f433",
   "metadata": {},
   "outputs": [],
   "source": [
    "# Boxplot to identify outliers in features\n",
    "plt.figure(figsize=(10, 6))\n",
    "sns.boxplot(data=iris_data)\n",
    "plt.title('Boxplot of All Features')\n",
    "plt.show()"
   ]
  },
  {
   "cell_type": "markdown",
   "id": "0deff041",
   "metadata": {},
   "source": [
    "### Conclusion\n",
    "- The dataset consists of 150 samples divided into 3 species.\n",
    "- Visualizations revealed feature relationships and possible outliers.\n",
    "- This analysis provides a strong foundation for further modeling tasks."
   ]
  }
 ],
 "metadata": {},
 "nbformat": 4,
 "nbformat_minor": 5
}
